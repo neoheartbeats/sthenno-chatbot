{
 "cells": [
  {
   "cell_type": "code",
   "execution_count": 1,
   "metadata": {},
   "outputs": [],
   "source": [
    "from multion.client import MultiOn\n",
    "\n",
    "multion_client = MultiOn()\n"
   ]
  },
  {
   "cell_type": "code",
   "execution_count": 29,
   "metadata": {},
   "outputs": [],
   "source": [
    "def session(url: str = \"https://google.com\", local: bool = False):\n",
    "    s = multion_client.sessions.create(url=url, local=local)\n",
    "    return s.session_id\n",
    "\n",
    "\n",
    "def session_step(session_id: str, cmd: str):\n",
    "    return multion_client.sessions.step(session_id=session_id, cmd=cmd)\n",
    "\n",
    "\n",
    "def session_step_run(session_id: str, cmd: str):\n",
    "    status = \"CONTINUE\"\n",
    "    while status == \"CONTINUE\":\n",
    "        status = session_step(session_id=session_id, cmd=cmd).status\n",
    "        print(status)\n",
    "\n",
    "        message = session_step(session_id=session_id, cmd=cmd).message\n",
    "        if message:\n",
    "            print(message)\n",
    "    return message\n"
   ]
  },
  {
   "cell_type": "code",
   "execution_count": 32,
   "metadata": {},
   "outputs": [
    {
     "name": "stdout",
     "output_type": "stream",
     "text": [
      "CONTINUE\n",
      "I am clicking on the first image of \"komeiji_koishi\" to view it and get its URL.\n",
      "\n",
      "CONTINUE\n",
      "I am clicking on the \"Download larger version\" link to get the high-quality version of the image and obtain its URL.\n",
      "\n",
      "DONE\n",
      "The URL of the image of \"komeiji_koishi\" is:\n",
      "https://files.yande.re/image/24a43b7aa4f5e405d7f6b1b6632dd72a/yande.re%201186002%20bikini%20cameltoe%20dress%20ke-ta%20komeiji_koishi%20loli%20skirt_lift%20summer_dress%20swimsuits%20touhou.jpg\n",
      "\n"
     ]
    }
   ],
   "source": [
    "session_id = session(url=\"https://yande.re/post\", local=False)\n",
    "\n",
    "session_step_run(session_id, \"Get an image of komeiji_koishi and get its url.\")\n"
   ]
  },
  {
   "cell_type": "code",
   "execution_count": 26,
   "metadata": {},
   "outputs": [],
   "source": [
    "def session_get(\n",
    "    cmd: str,\n",
    "    fields: list[str],\n",
    "    url: str = \"https://google.com\",\n",
    "    local: bool = True,\n",
    "    max_items: int = 1,\n",
    "    render_js: bool = True,\n",
    "):\n",
    "    out = multion_client.retrieve(\n",
    "        cmd=cmd,\n",
    "        fields=fields,\n",
    "        url=url,\n",
    "        local=local,\n",
    "        max_items=max_items,\n",
    "        render_js=render_js,\n",
    "    )\n",
    "    return out.data\n"
   ]
  },
  {
   "cell_type": "code",
   "execution_count": 27,
   "metadata": {},
   "outputs": [],
   "source": [
    "dt = session_get(\n",
    "    cmd=\"Get an image of komeiji_koishi.\",\n",
    "    fields=[\"image\"],\n",
    "    url=\"https://yande.re/post\",\n",
    ")\n",
    "dt\n"
   ]
  },
  {
   "cell_type": "code",
   "execution_count": 35,
   "metadata": {},
   "outputs": [],
   "source": [
    "from pydantic import BaseModel\n",
    "import openai\n",
    "\n",
    "_llm_client = openai.OpenAI()\n",
    "\n",
    "\n",
    "class MultiOnMessage(BaseModel):\n",
    "    command: str\n",
    "    url: str | None\n",
    "\n",
    "\n",
    "def multion_message(prompt: str):\n",
    "    c = _llm_client.beta.chat.completions.parse(\n",
    "        model=\"gpt-4o-mini\",\n",
    "        messages=[\n",
    "            {\n",
    "                \"role\": \"system\",\n",
    "                \"content\": \"\"\"You are an expert at structured data extraction.\n",
    "You will be given unstructured text from a research paper and should convert it into the given structure.\n",
    "\n",
    "Example input: 从 pixiv.com 找一张古明地恋的图片.\n",
    "Example output: {\"command\": \"找一张古明地恋的图片.\", \"url\": \"https://pixiv.com\"}\n",
    "                \"\"\",\n",
    "            },\n",
    "            {\"role\": \"user\", \"content\": prompt},\n",
    "        ],\n",
    "        response_format=MultiOnMessage,\n",
    "    )\n",
    "    multion_message = c.choices[0].message\n",
    "    if multion_message.refusal:\n",
    "        print(f\"Refusal: {multion_message.refusal}\")\n",
    "    else:\n",
    "        return multion_message.parsed\n"
   ]
  },
  {
   "cell_type": "code",
   "execution_count": 38,
   "metadata": {},
   "outputs": [],
   "source": [
    "msg = multion_message(\"Get an image of komeiji_koishi from yande.re/post.\")\n"
   ]
  },
  {
   "cell_type": "code",
   "execution_count": 39,
   "metadata": {},
   "outputs": [
    {
     "data": {
      "text/plain": [
       "'Get an image of komeiji_koishi.'"
      ]
     },
     "execution_count": 39,
     "metadata": {},
     "output_type": "execute_result"
    }
   ],
   "source": [
    "msg.command\n"
   ]
  },
  {
   "cell_type": "code",
   "execution_count": null,
   "metadata": {},
   "outputs": [],
   "source": []
  }
 ],
 "metadata": {
  "kernelspec": {
   "display_name": "sthenno-chatbot",
   "language": "python",
   "name": "python3"
  },
  "language_info": {
   "codemirror_mode": {
    "name": "ipython",
    "version": 3
   },
   "file_extension": ".py",
   "mimetype": "text/x-python",
   "name": "python",
   "nbconvert_exporter": "python",
   "pygments_lexer": "ipython3",
   "version": "3.12.4"
  }
 },
 "nbformat": 4,
 "nbformat_minor": 2
}
